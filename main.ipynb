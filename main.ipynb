{
 "cells": [
  {
   "cell_type": "code",
   "execution_count": null,
   "id": "initial_id",
   "metadata": {
    "collapsed": true
   },
   "outputs": [],
   "source": [
    "import pandas as pd\n",
    "import numpy as np\n",
    "from sklearn.model_selection import train_test_split\n",
    "from sklearn.preprocessing import StandardScaler, OneHotEncoder\n",
    "from sklearn.compose import ColumnTransformer\n",
    "from sklearn.pipeline import Pipeline\n",
    "from sklearn.impute import SimpleImputer\n",
    "from sklearn.ensemble import RandomForestClassifier\n",
    "from sklearn.model_selection import cross_val_score\n",
    "from tqdm import tqdm"
   ]
  },
  {
   "cell_type": "code",
   "outputs": [],
   "source": [
    "train_data_path = \"dataset/train.csv\"\n",
    "test_data_path = \"dataset/test.csv\"\n",
    "\n",
    "train_data = pd.read_csv(train_data_path)\n",
    "test_data = pd.read_csv(test_data_path)"
   ],
   "metadata": {
    "collapsed": false
   },
   "id": "a06a9bc2a2aef0f6",
   "execution_count": null
  },
  {
   "cell_type": "code",
   "outputs": [],
   "source": [
    "# Check for missing values\n",
    "missing_values = train_data.isnull().sum()\n",
    "\n",
    "# Define categorical and numerical features\n",
    "categorical_features = train_data.select_dtypes(include=['object']).drop(['NObeyesdad'], axis=1).columns.tolist()\n",
    "numerical_features = train_data.select_dtypes(exclude=['object']).drop(['id'], axis=1).columns.tolist()\n",
    "\n",
    "# Define the preprocessing for numerical and categorical data\n",
    "numerical_transformer = Pipeline(steps=[\n",
    "    ('imputer', SimpleImputer(strategy='mean')),  # Impute missing values with mean\n",
    "    ('scaler', StandardScaler())  # Standardize features by removing the mean and scaling to unit variance\n",
    "])\n",
    "\n",
    "categorical_transformer = Pipeline(steps=[\n",
    "    ('imputer', SimpleImputer(strategy='most_frequent')),  # Impute missing values with the most frequent value\n",
    "    ('onehot', OneHotEncoder(handle_unknown='ignore'))  # Apply OneHotEncoder to categorical data\n",
    "])\n",
    "\n",
    "# Combine preprocessing steps\n",
    "preprocessor = ColumnTransformer(\n",
    "    transformers=[\n",
    "        ('num', numerical_transformer, numerical_features),\n",
    "        ('cat', categorical_transformer, categorical_features)\n",
    "    ])\n",
    "\n",
    "# Define the model\n",
    "model = RandomForestClassifier(random_state=42)\n",
    "\n",
    "# Create the preprocessing and training pipeline\n",
    "pipeline = Pipeline(steps=[('preprocessor', preprocessor),\n",
    "                           ('model', model)])\n",
    "\n",
    "# Split data into training and validation sets\n",
    "X = train_data.drop(['id', 'NObeyesdad'], axis=1)\n",
    "y = train_data['NObeyesdad']\n",
    "X_train, X_val, y_train, y_val = train_test_split(X, y, test_size=0.2, random_state=42)\n",
    "\n",
    "# Train the model\n",
    "pipeline.fit(X_train, y_train)\n",
    "\n",
    "score = pipeline.score(X_val, y_val)\n",
    "print(f\"Model score: {score}\")"
   ],
   "metadata": {
    "collapsed": false
   },
   "id": "d9d959ca64b4500a",
   "execution_count": null
  },
  {
   "cell_type": "code",
   "outputs": [],
   "source": [
    "# Prepare the test data (exclude the 'id' column)\n",
    "X_test = test_data.drop(['id'], axis=1)\n",
    "\n",
    "# Make predictions using the trained pipeline\n",
    "predictions = pipeline.predict(X_test)\n"
   ],
   "metadata": {
    "collapsed": false
   },
   "id": "5c91bf8379f5bb4",
   "execution_count": null
  },
  {
   "cell_type": "code",
   "outputs": [],
   "source": [
    "# Create a new DataFrame with the 'id' column and the predicted 'NObeyesdad' labels\n",
    "submission_df = test_data[['id']].copy()  # Copy 'id' column from test data\n",
    "submission_df['NObeyesdad'] = predictions  # Add the predicted labels\n",
    "\n",
    "# Display the first few rows of the submission DataFrame\n",
    "submission_df.head()\n",
    "\n",
    "submission_df.to_csv('output/submission.csv', index=False)"
   ],
   "metadata": {
    "collapsed": false
   },
   "id": "1acb3326a088e9f9",
   "execution_count": null
  }
 ],
 "metadata": {
  "kernelspec": {
   "display_name": "Python 3",
   "language": "python",
   "name": "python3"
  },
  "language_info": {
   "codemirror_mode": {
    "name": "ipython",
    "version": 2
   },
   "file_extension": ".py",
   "mimetype": "text/x-python",
   "name": "python",
   "nbconvert_exporter": "python",
   "pygments_lexer": "ipython2",
   "version": "2.7.6"
  }
 },
 "nbformat": 4,
 "nbformat_minor": 5
}
